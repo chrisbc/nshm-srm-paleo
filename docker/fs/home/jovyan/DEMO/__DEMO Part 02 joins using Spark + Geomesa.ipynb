{
 "cells": [
  {
   "cell_type": "markdown",
   "metadata": {},
   "source": [
    "## DEMO Part 02 - joins using Spark + Geomesa\n",
    "\n"
   ]
  },
  {
   "cell_type": "code",
   "execution_count": 1,
   "metadata": {
    "scrolled": true
   },
   "outputs": [],
   "source": [
    "import geomesa_pyspark\n",
    "import random\n",
    "from pyspark.sql import Row\n",
    "from h5spark import read\n",
    "\n",
    "conf = geomesa_pyspark.configure()\\\n",
    "    .setAppName('Demo1')\n",
    "\n",
    "from pyspark.sql import SparkSession\n",
    "spark = SparkSession.builder.enableHiveSupport().getOrCreate()\n",
    "sc = spark.sparkContext\n",
    "\n",
    "# geomesa_pyspark.init_sql(spark) in later version 2.4 DOCS)\n",
    "spark._jvm.org.apache.spark.sql.SQLTypes.init(spark._jwrapped)"
   ]
  },
  {
   "cell_type": "code",
   "execution_count": 2,
   "metadata": {},
   "outputs": [
    {
     "name": "stdout",
     "output_type": "stream",
     "text": [
      "CPU times: user 220 ms, sys: 20 ms, total: 240 ms\n",
      "Wall time: 242 ms\n",
      "CPU times: user 468 ms, sys: 16 ms, total: 484 ms\n",
      "Wall time: 481 ms\n"
     ]
    }
   ],
   "source": [
    "%run \"__DEMO Part 00.ipynb\""
   ]
  },
  {
   "cell_type": "markdown",
   "metadata": {},
   "source": [
    "### Prepare spark dataframes "
   ]
  },
  {
   "cell_type": "code",
   "execution_count": 3,
   "metadata": {},
   "outputs": [
    {
     "name": "stdout",
     "output_type": "stream",
     "text": [
      "DataFrame[POINT_ID: bigint, SiteDB_ID: string, geometry_x: double, geometry_y: double, FEATURE_NA: string]\n",
      "DataFrame[Site Data_Site DB ID: bigint, Site Data_Site Name: string, Site Data_Easting (NZTM): double, Site Data_Northing (NZTM): double]\n"
     ]
    }
   ],
   "source": [
    "#spark DF needs the raw geometry, not the POINT object\n",
    "sites_df2 = sites_gdf.copy()\n",
    "sites_df2[\"geometry_x\"] = sites_gdf.geometry.apply(lambda geom: geom.x)\n",
    "sites_df2[\"geometry_y\"] = sites_gdf.geometry.apply(lambda geom: geom.y)\n",
    "\n",
    "# def fix_null_int(x):\n",
    "#     if x:\n",
    "#         return int(x)\n",
    "#     else:\n",
    "#         return -1\n",
    "\n",
    "# sites_df2[\"SiteDB_ID\"] = sites_gdf.SiteDB_ID.apply(fix_null_int).astype(int)\n",
    "\n",
    "# # more integrity with a schema\n",
    "# from pyspark.sql.types import *\n",
    "# site_schema = StructType([\n",
    "#     StructField(\"POINT_ID\", IntegerType(), nullable= True),\n",
    "#     StructField(\"SiteDB_ID\", IntegerType(), nullable=False),\n",
    "#     StructField(\"geometry_x\", DoubleType(), nullable=False),\n",
    "#     StructField(\"geometry_y\", DoubleType(), nullable=False),\n",
    "#     StructField(\"FEATURE_NA\", StringType(), nullable=True)\n",
    "# ])\n",
    "\n",
    "sites_spark_df = spark.createDataFrame(\n",
    "    sites_df2.filter(items=[\"POINT_ID\", \n",
    "        \"SiteDB_ID\",\n",
    "        \"geometry_x\",\n",
    "        \"geometry_y\",\n",
    "        \"FEATURE_NA\"]))\n",
    "#    schema=site_schema)\n",
    "\n",
    "slip_rate_spark_df = spark.createDataFrame(\n",
    "    slip_rate_df.filter(items=['Site Data_Site DB ID', \n",
    "                           'Site Data_Site Name', \n",
    "                           'Site Data_Easting (NZTM)', \n",
    "                           'Site Data_Northing (NZTM)']))\n",
    "\n",
    "# set up SQL views on our two dataframes\n",
    "sites_spark_df.createOrReplaceTempView(\"sites\")\n",
    "slip_rate_spark_df.createOrReplaceTempView(\"slip_rates\")\n",
    "\n",
    "sites_df2.filter(items=[\"POINT_ID\", \n",
    "        \"SiteDB_ID\",\n",
    "        \"geometry_x\",\n",
    "        \"geometry_y\",\n",
    "        \"FEATURE_NA\"])\n",
    "print(sites_spark_df)\n",
    "print(slip_rate_spark_df)"
   ]
  },
  {
   "cell_type": "code",
   "execution_count": 4,
   "metadata": {},
   "outputs": [
    {
     "name": "stdout",
     "output_type": "stream",
     "text": [
      "+-------+------------------+-------------------+------------------+------------------+-----------------+\n",
      "|summary|          POINT_ID|          SiteDB_ID|        geometry_x|        geometry_y|       FEATURE_NA|\n",
      "+-------+------------------+-------------------+------------------+------------------+-----------------+\n",
      "|  count|               374|                261|               374|               374|               11|\n",
      "|   mean|362.78877005347596|0.40229885057471265|1663582.7398980474| 5416410.452055819|             null|\n",
      "| stddev|4039.8235403001986| 1.9342645399078247| 220095.5855532843|266732.74674936663|             null|\n",
      "|    min|                 0|                  0|1191945.3343220146| 4877056.067123675|   Balfour Trench|\n",
      "|    25%|                 0|                0.0|1475220.9210024634| 5200946.011786301|             null|\n",
      "|    50%|                 0|                0.0|1690022.8332907828| 5439586.981779055|             null|\n",
      "|    75%|                 0|                0.0| 1841754.788129142| 5640962.038877445|             null|\n",
      "|    max|             45353|                014| 2060632.995781441| 5853771.277420413|Te Marua terraces|\n",
      "+-------+------------------+-------------------+------------------+------------------+-----------------+\n",
      "\n"
     ]
    }
   ],
   "source": [
    "#help(slip_rate_spark_df)\n",
    "sites_spark_df.summary().show()"
   ]
  },
  {
   "cell_type": "markdown",
   "metadata": {},
   "source": [
    "### Spark SQL join by ID"
   ]
  },
  {
   "cell_type": "code",
   "execution_count": 5,
   "metadata": {},
   "outputs": [
    {
     "name": "stdout",
     "output_type": "stream",
     "text": [
      "+---------+---------+------------------+------------------+--------------+--------------+\n",
      "|SiteDB_ID|SR_SiteID|        geometry_x|        geometry_y|       easting|      northing|\n",
      "+---------+---------+------------------+------------------+--------------+--------------+\n",
      "|        1|        1|1685349.9999996922| 5390752.999974101|     1685350.0| 5390752.99997|\n",
      "|        2|        2|1686050.0317498427| 5392467.073217822| 1686050.03175| 5392467.07322|\n",
      "|        3|        3|1688883.1686561191| 5397088.581135526|     1689691.0| 5398180.99996|\n",
      "|        4|        4|1690022.8332907828| 5398338.833273707| 1690022.83329| 5398338.83327|\n",
      "|        7|        7|1776505.3841642379| 5448136.479487686| 1777235.21908|  5448283.5495|\n",
      "|        8|        8|1777132.1792704347| 5448409.051320459| 1777132.17927| 5448409.05132|\n",
      "|        9|        9|1777343.5924081975| 5448532.222452894|1777343.592408|5448532.222453|\n",
      "|       11|       11|1777968.1414732502|5448830.3397795465|1777968.141473| 5448830.33978|\n",
      "+---------+---------+------------------+------------------+--------------+--------------+\n",
      "\n"
     ]
    }
   ],
   "source": [
    "qry = \"SELECT int(SiteDB_ID), `Site Data_Site DB ID` as SR_SiteID, geometry_x, geometry_y, \"\\\n",
    "      \" `Site Data_Easting (NZTM)` as easting, `Site Data_Northing (NZTM)` as northing\"\\\n",
    "      \" FROM sites, slip_rates\"\\\n",
    "      \" WHERE int(SiteDB_ID) = `Site Data_Site DB ID`\"\\\n",
    "      \" ORDER BY SiteDB_ID\"\n",
    "\n",
    "res = spark.sql(qry)\n",
    "res.show()"
   ]
  },
  {
   "cell_type": "markdown",
   "metadata": {},
   "source": [
    "### Spark SQL join by geometry rounding"
   ]
  },
  {
   "cell_type": "code",
   "execution_count": null,
   "metadata": {},
   "outputs": [],
   "source": [
    "qry = \"SELECT int(SiteDB_ID), `Site Data_Site DB ID` as SR_SiteID, geometry_x, geometry_y, \"\\\n",
    "      \" `Site Data_Easting (NZTM)` as easting, `Site Data_Northing (NZTM)` as northing\"\\\n",
    "      \" FROM sites, slip_rates\"\\\n",
    "      \" WHERE abs(geometry_y - `Site Data_Northing (NZTM)`) < 0.00001\"\\\n",
    "      \" AND abs(geometry_x - `Site Data_Easting (NZTM)`) < 0.00001\"\\\n",
    "      \" ORDER BY SiteDB_ID\"\n",
    "    \n",
    "res = spark.sql(qry)\n",
    "res.show()"
   ]
  },
  {
   "cell_type": "markdown",
   "metadata": {},
   "source": [
    "### Spark SQL join by geomesa st_distance"
   ]
  },
  {
   "cell_type": "code",
   "execution_count": 6,
   "metadata": {},
   "outputs": [
    {
     "name": "stdout",
     "output_type": "stream",
     "text": [
      "+---------+---------+------------------+------------------+--------------+--------------+\n",
      "|SiteDB_ID|SR_SiteID|        geometry_x|        geometry_y|       easting|      northing|\n",
      "+---------+---------+------------------+------------------+--------------+--------------+\n",
      "|        1|        1|1685349.9999996922| 5390752.999974101|     1685350.0| 5390752.99997|\n",
      "|        2|        2|1686050.0317498427| 5392467.073217822| 1686050.03175| 5392467.07322|\n",
      "|        4|        4|1690022.8332907828| 5398338.833273707| 1690022.83329| 5398338.83327|\n",
      "|        5|        3|1689690.9999994948| 5398180.999959535|     1689691.0| 5398180.99996|\n",
      "|        8|        8|1777132.1792704347| 5448409.051320459| 1777132.17927| 5448409.05132|\n",
      "|        9|        9|1777343.5924081975| 5448532.222452894|1777343.592408|5448532.222453|\n",
      "|       11|       11|1777968.1414732502|5448830.3397795465|1777968.141473| 5448830.33978|\n",
      "+---------+---------+------------------+------------------+--------------+--------------+\n",
      "\n"
     ]
    }
   ],
   "source": [
    "qry = \"SELECT int(SiteDB_ID), `Site Data_Site DB ID` as SR_SiteID, geometry_x, geometry_y, \"\\\n",
    "      \" `Site Data_Easting (NZTM)` as easting, `Site Data_Northing (NZTM)` as northing\"\\\n",
    "      \" FROM sites, slip_rates\"\\\n",
    "      \" WHERE st_distance(st_point(`Site Data_Easting (NZTM)`, `Site Data_Northing (NZTM)`), \"\\\n",
    "      \"                   st_point(geometry_x, geometry_y)) < 0.001\"\\\n",
    "      \" ORDER BY SiteDB_ID\"\n",
    "res = spark.sql(qry)\n",
    "res.show()"
   ]
  },
  {
   "cell_type": "markdown",
   "metadata": {},
   "source": [
    "### Spark SQL join by ID with st_distance"
   ]
  },
  {
   "cell_type": "code",
   "execution_count": 7,
   "metadata": {},
   "outputs": [
    {
     "name": "stdout",
     "output_type": "stream",
     "text": [
      "+---------+---------+------------------+-----------------+-------------+-------------+\n",
      "|SiteDB_ID|SR_SiteID|        geometry_x|       geometry_y|      easting|     northing|\n",
      "+---------+---------+------------------+-----------------+-------------+-------------+\n",
      "|        3|        3|1688883.1686561191|5397088.581135526|    1689691.0|5398180.99996|\n",
      "|        7|        7|1776505.3841642379|5448136.479487686|1777235.21908| 5448283.5495|\n",
      "+---------+---------+------------------+-----------------+-------------+-------------+\n",
      "\n"
     ]
    }
   ],
   "source": [
    "#by ID\n",
    "qry = \"SELECT int(SiteDB_ID), `Site Data_Site DB ID` as SR_SiteID, geometry_x, geometry_y, \"\\\n",
    "      \" `Site Data_Easting (NZTM)` as easting, `Site Data_Northing (NZTM)` as northing \" \\\n",
    "      \" FROM sites, slip_rates\"\\\n",
    "      \" WHERE int(SiteDB_ID) = `Site Data_Site DB ID`\"\\\n",
    "      \" AND st_distance(st_makePoint(`Site Data_Easting (NZTM)`, `Site Data_Northing (NZTM)`), \"\\\n",
    "      \"                 st_makePoint(geometry_x, geometry_y)) > 1e-3\"\\\n",
    "      \" ORDER BY SiteDB_ID\"\n",
    "res = spark.sql(qry)\n",
    "res.show()"
   ]
  },
  {
   "cell_type": "code",
   "execution_count": null,
   "metadata": {},
   "outputs": [],
   "source": []
  }
 ],
 "metadata": {
  "kernelspec": {
   "display_name": "Python 3",
   "language": "python",
   "name": "python3"
  },
  "language_info": {
   "codemirror_mode": {
    "name": "ipython",
    "version": 3
   },
   "file_extension": ".py",
   "mimetype": "text/x-python",
   "name": "python",
   "nbconvert_exporter": "python",
   "pygments_lexer": "ipython3",
   "version": "3.7.3"
  }
 },
 "nbformat": 4,
 "nbformat_minor": 4
}
