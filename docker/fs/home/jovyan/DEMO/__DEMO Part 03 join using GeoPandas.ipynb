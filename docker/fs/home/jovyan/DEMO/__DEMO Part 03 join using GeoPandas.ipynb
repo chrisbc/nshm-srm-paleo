{
 "cells": [
  {
   "cell_type": "markdown",
   "metadata": {},
   "source": [
    "#### DEMO Part 3 - join using GeoPandas"
   ]
  },
  {
   "cell_type": "code",
   "execution_count": 1,
   "metadata": {},
   "outputs": [],
   "source": [
    "from datetime import datetime as dt\n",
    "t0 = dt.utcnow()"
   ]
  },
  {
   "cell_type": "code",
   "execution_count": 2,
   "metadata": {},
   "outputs": [
    {
     "name": "stdout",
     "output_type": "stream",
     "text": [
      "CPU times: user 188 ms, sys: 20 ms, total: 208 ms\n",
      "Wall time: 207 ms\n",
      "CPU times: user 440 ms, sys: 16 ms, total: 456 ms\n",
      "Wall time: 453 ms\n"
     ]
    }
   ],
   "source": [
    "%run \"__DEMO Part 00.ipynb\""
   ]
  },
  {
   "cell_type": "code",
   "execution_count": 3,
   "metadata": {},
   "outputs": [],
   "source": [
    "sites_gdf[\"SiteDB_ID\"] = pd.to_numeric(sites_gdf[\"SiteDB_ID\"], downcast='float', errors='coerce')"
   ]
  },
  {
   "cell_type": "code",
   "execution_count": 4,
   "metadata": {},
   "outputs": [
    {
     "name": "stdout",
     "output_type": "stream",
     "text": [
      "Index(['OBJECTID', 'FIELD_NUMB', 'FEATURE_NA', 'METHOD', 'METHOD_ACC',\n",
      "       'FAULT_FEAT', 'GEO_FEATUR', 'GEO_INFO', 'DOM_SENSE', 'SUB_SENSE',\n",
      "       'DOWN_QUAD', 'DIP', 'DIP_DIR', 'NET_TREND', 'NET_PLUNGE', 'STRIKE_DIS',\n",
      "       'STRIKE_TIM', 'STRIKE_SR', 'STRIKE_EVE', 'STRIKE_SED', 'VERT_DISP',\n",
      "       'VERT_TIME', 'VERT_SR', 'VERT_EVENT', 'VERT_SED', 'DIP_DISP',\n",
      "       'DIP_TIME', 'DIP_SR', 'DIP_EVENTS', 'DIP_SED', 'NET_DISP', 'NET_TIME',\n",
      "       'NET_SR', 'NET_EVENTS', 'NET_SED', 'RI', 'LE', 'BIB_ID', 'TRACE_ID',\n",
      "       'EASTING', 'NORTHING', 'POINT_ID', 'SOURCE', 'DATE_', 'CONFID',\n",
      "       'ACCESS_', 'AUTHOR', 'OWNER', 'OTHER_INFO', 'POINT_X', 'POINT_Y',\n",
      "       'Parameter', 'SiteDB_ID', 'geometry'],\n",
      "      dtype='object')\n",
      "Index(['Fault_Fault', 'Fault_CFM name', 'Fault_CFM #',\n",
      "       'Fault_CFM\\nSense\\nDominant', 'Fault_CFM\\nSense\\nSecondary',\n",
      "       'Fault_CFM\\nDip\\n(°)', 'Fault_CFM\\nRake\\n(°)',\n",
      "       'Fault_CFM\\nNet SR\\n (mm/yr)', 'Fault_CFM Net SR \\ncomments',\n",
      "       'Site Data_Site DB ID', 'Site Data_Site Name',\n",
      "       'Site Data_Easting (NZTM)', 'Site Data_Northing (NZTM)',\n",
      "       'Site Data_Local strike', 'Site Data_Reported SR (mm/yr)',\n",
      "       'Site Data_Reported component (SR)', 'Site Data_SR \\n(mm/yr)\\nNet',\n",
      "       'Site Data_QR1 Offset feature\\n(A-D)', 'Site Data_QR2 Dating\\n(A-D)',\n",
      "       'Site Data_QR3 Overall\\n(A-D)', 'Site Data_Reported component (offset)',\n",
      "       'Site Data_Reported offset (m)', 'Site Data_Offset feature(s)',\n",
      "       'Site Data_# of measurements', 'Site Data_Reported age (ka)',\n",
      "       'Site Data_Start age (ka) Pref.', 'Site Data_Start age (ka) Min.',\n",
      "       'Site Data_Start age (ka) Max.', 'Site Data_End age (ka) Pref.',\n",
      "       'Site Data_End age (ka) Min.', 'Site Data_End age (ka) Max.',\n",
      "       'Site Data_Dating method', 'Site Data_SR timeframe category\\n(ka)',\n",
      "       'Site Data_No. of events Pref.', 'Site Data_No. of events Min.',\n",
      "       'Site Data_No. of events Max.', 'Site Data_Comments regarding SR',\n",
      "       'Site Data_Comments regarding Dating', 'Site Data_Data source',\n",
      "       'Site Data_Last updated', 'Site Data_Updated by', 'Site Data_Last QA'd',\n",
      "       'Site Data_QA'd by'],\n",
      "      dtype='object')\n"
     ]
    }
   ],
   "source": [
    "print(sites_gdf.columns)\n",
    "print(slip_rate_df.columns)"
   ]
  },
  {
   "cell_type": "code",
   "execution_count": 5,
   "metadata": {
    "scrolled": true
   },
   "outputs": [
    {
     "data": {
      "text/plain": [
       "<matplotlib.axes._subplots.AxesSubplot at 0x7f674e995908>"
      ]
     },
     "execution_count": 5,
     "metadata": {},
     "output_type": "execute_result"
    },
    {
     "data": {
      "image/png": "[encoded data removed]",
      "text/plain": [
       "<Figure size 432x288 with 1 Axes>"
      ]
     },
     "metadata": {
      "needs_background": "light"
     },
     "output_type": "display_data"
    }
   ],
   "source": [
    "sites_gdf.geometry.plot()"
   ]
  },
  {
   "cell_type": "markdown",
   "metadata": {},
   "source": [
    "### Prepare GeoDataframe"
   ]
  },
  {
   "cell_type": "code",
   "execution_count": 6,
   "metadata": {},
   "outputs": [
    {
     "data": {
      "text/html": [
       "<div>\n",
       "<style scoped>\n",
       "    .dataframe tbody tr th:only-of-type {\n",
       "        vertical-align: middle;\n",
       "    }\n",
       "\n",
       "    .dataframe tbody tr th {\n",
       "        vertical-align: top;\n",
       "    }\n",
       "\n",
       "    .dataframe thead th {\n",
       "        text-align: right;\n",
       "    }\n",
       "</style>\n",
       "<table border=\"1\" class=\"dataframe\">\n",
       "  <thead>\n",
       "    <tr style=\"text-align: right;\">\n",
       "      <th></th>\n",
       "      <th>Fault_Fault</th>\n",
       "      <th>Fault_CFM name</th>\n",
       "      <th>Fault_CFM #</th>\n",
       "      <th>Fault_CFM\\nSense\\nDominant</th>\n",
       "      <th>Fault_CFM\\nSense\\nSecondary</th>\n",
       "      <th>Fault_CFM\\nDip\\n(°)</th>\n",
       "      <th>Fault_CFM\\nRake\\n(°)</th>\n",
       "      <th>Fault_CFM\\nNet SR\\n (mm/yr)</th>\n",
       "      <th>Fault_CFM Net SR \\ncomments</th>\n",
       "      <th>Site Data_Site DB ID</th>\n",
       "      <th>...</th>\n",
       "      <th>Site Data_No. of events Min.</th>\n",
       "      <th>Site Data_No. of events Max.</th>\n",
       "      <th>Site Data_Comments regarding SR</th>\n",
       "      <th>Site Data_Comments regarding Dating</th>\n",
       "      <th>Site Data_Data source</th>\n",
       "      <th>Site Data_Last updated</th>\n",
       "      <th>Site Data_Updated by</th>\n",
       "      <th>Site Data_Last QA'd</th>\n",
       "      <th>Site Data_QA'd by</th>\n",
       "      <th>geometry</th>\n",
       "    </tr>\n",
       "  </thead>\n",
       "  <tbody>\n",
       "    <tr>\n",
       "      <th>0</th>\n",
       "      <td>Vernon</td>\n",
       "      <td>Vernon 1</td>\n",
       "      <td>413.0</td>\n",
       "      <td>Reverse</td>\n",
       "      <td>Dextral</td>\n",
       "      <td>65 ± 10</td>\n",
       "      <td>290 ± 10</td>\n",
       "      <td>4.5 (2.5-5)</td>\n",
       "      <td>Unchanged from 2014 AFM</td>\n",
       "      <td>1</td>\n",
       "      <td>...</td>\n",
       "      <td>NaN</td>\n",
       "      <td>NaN</td>\n",
       "      <td>Bartholomew et al. (2014) only report SR in co...</td>\n",
       "      <td>NaN</td>\n",
       "      <td>Bartholomew et al. (2014)</td>\n",
       "      <td>2020-05-06</td>\n",
       "      <td>Nicola Litchfield</td>\n",
       "      <td>NaN</td>\n",
       "      <td>NaN</td>\n",
       "      <td>POINT (1685350.000 5390753.000)</td>\n",
       "    </tr>\n",
       "    <tr>\n",
       "      <th>1</th>\n",
       "      <td>NaN</td>\n",
       "      <td>NaN</td>\n",
       "      <td>NaN</td>\n",
       "      <td>NaN</td>\n",
       "      <td>NaN</td>\n",
       "      <td>NaN</td>\n",
       "      <td>NaN</td>\n",
       "      <td>NaN</td>\n",
       "      <td>NaN</td>\n",
       "      <td>2</td>\n",
       "      <td>...</td>\n",
       "      <td>NaN</td>\n",
       "      <td>NaN</td>\n",
       "      <td>Bartholomew et al. (2014) only report SR in co...</td>\n",
       "      <td>NaN</td>\n",
       "      <td>Bartholomew et al. (2014)</td>\n",
       "      <td>2020-05-06</td>\n",
       "      <td>Nicola Litchfield</td>\n",
       "      <td>NaN</td>\n",
       "      <td>NaN</td>\n",
       "      <td>POINT (1686050.032 5392467.073)</td>\n",
       "    </tr>\n",
       "    <tr>\n",
       "      <th>2</th>\n",
       "      <td>Vernon</td>\n",
       "      <td>Vernon 2</td>\n",
       "      <td>412.0</td>\n",
       "      <td>Dextral</td>\n",
       "      <td>NaN</td>\n",
       "      <td>80 ± 10</td>\n",
       "      <td>360 ± 10</td>\n",
       "      <td>4.5 (2.5-5)</td>\n",
       "      <td>Unchanged from 2014 AFM</td>\n",
       "      <td>3</td>\n",
       "      <td>...</td>\n",
       "      <td>NaN</td>\n",
       "      <td>NaN</td>\n",
       "      <td>Bartholomew et al. (2014) only report SR in co...</td>\n",
       "      <td>OSL age uncertainties 1 sigma</td>\n",
       "      <td>Bartholomew et al. (2014)</td>\n",
       "      <td>2020-05-06</td>\n",
       "      <td>Nicola Litchfield</td>\n",
       "      <td>NaN</td>\n",
       "      <td>NaN</td>\n",
       "      <td>POINT (1689691.000 5398181.000)</td>\n",
       "    </tr>\n",
       "    <tr>\n",
       "      <th>3</th>\n",
       "      <td>NaN</td>\n",
       "      <td>NaN</td>\n",
       "      <td>NaN</td>\n",
       "      <td>NaN</td>\n",
       "      <td>NaN</td>\n",
       "      <td>NaN</td>\n",
       "      <td>NaN</td>\n",
       "      <td>NaN</td>\n",
       "      <td>NaN</td>\n",
       "      <td>4</td>\n",
       "      <td>...</td>\n",
       "      <td>NaN</td>\n",
       "      <td>NaN</td>\n",
       "      <td>Bartholomew et al. (2014) only report SR in co...</td>\n",
       "      <td>OSL age uncertainties 1 sigma</td>\n",
       "      <td>Bartholomew et al. (2014)</td>\n",
       "      <td>2020-05-06</td>\n",
       "      <td>Nicola Litchfield</td>\n",
       "      <td>NaN</td>\n",
       "      <td>NaN</td>\n",
       "      <td>POINT (1690022.833 5398338.833)</td>\n",
       "    </tr>\n",
       "    <tr>\n",
       "      <th>4</th>\n",
       "      <td>Wellington</td>\n",
       "      <td>Wellington Hut Valley 5</td>\n",
       "      <td>292.0</td>\n",
       "      <td>Dextral</td>\n",
       "      <td>Normal</td>\n",
       "      <td>65 ± 10</td>\n",
       "      <td>30 ± 10</td>\n",
       "      <td>6.3 (5.1-8.2)</td>\n",
       "      <td>Unchanged from 2014 AFM</td>\n",
       "      <td>7</td>\n",
       "      <td>...</td>\n",
       "      <td>NaN</td>\n",
       "      <td>NaN</td>\n",
       "      <td>Ninis et al. (2013) only report SR in componen...</td>\n",
       "      <td>OSL age uncertainties 2 sigma</td>\n",
       "      <td>Ninis et al. (2013)</td>\n",
       "      <td>2020-05-14</td>\n",
       "      <td>Nicola Litchfield</td>\n",
       "      <td>NaN</td>\n",
       "      <td>NaN</td>\n",
       "      <td>POINT (1777235.219 5448283.549)</td>\n",
       "    </tr>\n",
       "    <tr>\n",
       "      <th>5</th>\n",
       "      <td>NaN</td>\n",
       "      <td>NaN</td>\n",
       "      <td>NaN</td>\n",
       "      <td>NaN</td>\n",
       "      <td>NaN</td>\n",
       "      <td>NaN</td>\n",
       "      <td>NaN</td>\n",
       "      <td>NaN</td>\n",
       "      <td>NaN</td>\n",
       "      <td>8</td>\n",
       "      <td>...</td>\n",
       "      <td>NaN</td>\n",
       "      <td>NaN</td>\n",
       "      <td>Ages and offset from Ninis et al. (2013) using...</td>\n",
       "      <td>OSL age uncertainties 2 sigma</td>\n",
       "      <td>Ninis et al. (2013)</td>\n",
       "      <td>2020-05-14</td>\n",
       "      <td>Nicola Litchfield</td>\n",
       "      <td>NaN</td>\n",
       "      <td>NaN</td>\n",
       "      <td>POINT (1777132.179 5448409.051)</td>\n",
       "    </tr>\n",
       "    <tr>\n",
       "      <th>6</th>\n",
       "      <td>NaN</td>\n",
       "      <td>NaN</td>\n",
       "      <td>NaN</td>\n",
       "      <td>NaN</td>\n",
       "      <td>NaN</td>\n",
       "      <td>NaN</td>\n",
       "      <td>NaN</td>\n",
       "      <td>NaN</td>\n",
       "      <td>NaN</td>\n",
       "      <td>9</td>\n",
       "      <td>...</td>\n",
       "      <td>NaN</td>\n",
       "      <td>NaN</td>\n",
       "      <td>Reported SR of Ninis et al. (2013) as only one...</td>\n",
       "      <td>OSL age uncertainties 2 sigma</td>\n",
       "      <td>Ninis et al. (2013)</td>\n",
       "      <td>2020-05-14</td>\n",
       "      <td>Nicola Litchfield</td>\n",
       "      <td>NaN</td>\n",
       "      <td>NaN</td>\n",
       "      <td>POINT (1777343.592 5448532.222)</td>\n",
       "    </tr>\n",
       "    <tr>\n",
       "      <th>7</th>\n",
       "      <td>NaN</td>\n",
       "      <td>NaN</td>\n",
       "      <td>NaN</td>\n",
       "      <td>NaN</td>\n",
       "      <td>NaN</td>\n",
       "      <td>NaN</td>\n",
       "      <td>NaN</td>\n",
       "      <td>NaN</td>\n",
       "      <td>NaN</td>\n",
       "      <td>11</td>\n",
       "      <td>...</td>\n",
       "      <td>NaN</td>\n",
       "      <td>NaN</td>\n",
       "      <td>Reported values of Little et al. (2010) as onl...</td>\n",
       "      <td>OSL age uncertainties 1 sigma</td>\n",
       "      <td>Little et al. (2010)</td>\n",
       "      <td>2020-05-15</td>\n",
       "      <td>Nicola Litchfield</td>\n",
       "      <td>NaN</td>\n",
       "      <td>NaN</td>\n",
       "      <td>POINT (1777968.141 5448830.340)</td>\n",
       "    </tr>\n",
       "  </tbody>\n",
       "</table>\n",
       "<p>8 rows × 44 columns</p>\n",
       "</div>"
      ],
      "text/plain": [
       "  Fault_Fault           Fault_CFM name  Fault_CFM #  \\\n",
       "0      Vernon                 Vernon 1        413.0   \n",
       "1         NaN                      NaN          NaN   \n",
       "2      Vernon                 Vernon 2        412.0   \n",
       "3         NaN                      NaN          NaN   \n",
       "4  Wellington  Wellington Hut Valley 5        292.0   \n",
       "5         NaN                      NaN          NaN   \n",
       "6         NaN                      NaN          NaN   \n",
       "7         NaN                      NaN          NaN   \n",
       "\n",
       "  Fault_CFM\\nSense\\nDominant Fault_CFM\\nSense\\nSecondary Fault_CFM\\nDip\\n(°)  \\\n",
       "0                    Reverse                     Dextral             65 ± 10   \n",
       "1                        NaN                         NaN                 NaN   \n",
       "2                    Dextral                         NaN             80 ± 10   \n",
       "3                        NaN                         NaN                 NaN   \n",
       "4                    Dextral                      Normal             65 ± 10   \n",
       "5                        NaN                         NaN                 NaN   \n",
       "6                        NaN                         NaN                 NaN   \n",
       "7                        NaN                         NaN                 NaN   \n",
       "\n",
       "  Fault_CFM\\nRake\\n(°) Fault_CFM\\nNet SR\\n (mm/yr)  \\\n",
       "0             290 ± 10                 4.5 (2.5-5)   \n",
       "1                  NaN                         NaN   \n",
       "2             360 ± 10                 4.5 (2.5-5)   \n",
       "3                  NaN                         NaN   \n",
       "4              30 ± 10               6.3 (5.1-8.2)   \n",
       "5                  NaN                         NaN   \n",
       "6                  NaN                         NaN   \n",
       "7                  NaN                         NaN   \n",
       "\n",
       "  Fault_CFM Net SR \\ncomments  Site Data_Site DB ID  ...  \\\n",
       "0     Unchanged from 2014 AFM                     1  ...   \n",
       "1                         NaN                     2  ...   \n",
       "2     Unchanged from 2014 AFM                     3  ...   \n",
       "3                         NaN                     4  ...   \n",
       "4     Unchanged from 2014 AFM                     7  ...   \n",
       "5                         NaN                     8  ...   \n",
       "6                         NaN                     9  ...   \n",
       "7                         NaN                    11  ...   \n",
       "\n",
       "  Site Data_No. of events Min.  Site Data_No. of events Max.  \\\n",
       "0                          NaN                           NaN   \n",
       "1                          NaN                           NaN   \n",
       "2                          NaN                           NaN   \n",
       "3                          NaN                           NaN   \n",
       "4                          NaN                           NaN   \n",
       "5                          NaN                           NaN   \n",
       "6                          NaN                           NaN   \n",
       "7                          NaN                           NaN   \n",
       "\n",
       "                     Site Data_Comments regarding SR  \\\n",
       "0  Bartholomew et al. (2014) only report SR in co...   \n",
       "1  Bartholomew et al. (2014) only report SR in co...   \n",
       "2  Bartholomew et al. (2014) only report SR in co...   \n",
       "3  Bartholomew et al. (2014) only report SR in co...   \n",
       "4  Ninis et al. (2013) only report SR in componen...   \n",
       "5  Ages and offset from Ninis et al. (2013) using...   \n",
       "6  Reported SR of Ninis et al. (2013) as only one...   \n",
       "7  Reported values of Little et al. (2010) as onl...   \n",
       "\n",
       "   Site Data_Comments regarding Dating      Site Data_Data source  \\\n",
       "0                                  NaN  Bartholomew et al. (2014)   \n",
       "1                                  NaN  Bartholomew et al. (2014)   \n",
       "2        OSL age uncertainties 1 sigma  Bartholomew et al. (2014)   \n",
       "3        OSL age uncertainties 1 sigma  Bartholomew et al. (2014)   \n",
       "4        OSL age uncertainties 2 sigma        Ninis et al. (2013)   \n",
       "5        OSL age uncertainties 2 sigma        Ninis et al. (2013)   \n",
       "6        OSL age uncertainties 2 sigma        Ninis et al. (2013)   \n",
       "7        OSL age uncertainties 1 sigma       Little et al. (2010)   \n",
       "\n",
       "  Site Data_Last updated Site Data_Updated by Site Data_Last QA'd  \\\n",
       "0             2020-05-06    Nicola Litchfield                 NaN   \n",
       "1             2020-05-06    Nicola Litchfield                 NaN   \n",
       "2             2020-05-06    Nicola Litchfield                 NaN   \n",
       "3             2020-05-06    Nicola Litchfield                 NaN   \n",
       "4             2020-05-14    Nicola Litchfield                 NaN   \n",
       "5             2020-05-14    Nicola Litchfield                 NaN   \n",
       "6             2020-05-14    Nicola Litchfield                 NaN   \n",
       "7             2020-05-15    Nicola Litchfield                 NaN   \n",
       "\n",
       "  Site Data_QA'd by                         geometry  \n",
       "0               NaN  POINT (1685350.000 5390753.000)  \n",
       "1               NaN  POINT (1686050.032 5392467.073)  \n",
       "2               NaN  POINT (1689691.000 5398181.000)  \n",
       "3               NaN  POINT (1690022.833 5398338.833)  \n",
       "4               NaN  POINT (1777235.219 5448283.549)  \n",
       "5               NaN  POINT (1777132.179 5448409.051)  \n",
       "6               NaN  POINT (1777343.592 5448532.222)  \n",
       "7               NaN  POINT (1777968.141 5448830.340)  \n",
       "\n",
       "[8 rows x 44 columns]"
      ]
     },
     "execution_count": 6,
     "metadata": {},
     "output_type": "execute_result"
    }
   ],
   "source": [
    "from shapely.geometry import Point\n",
    "slip_rate_df[\"geometry\"] = slip_rate_df.apply(\n",
    "    lambda row: Point(row['Site Data_Easting (NZTM)'], row['Site Data_Northing (NZTM)']),\n",
    "    axis = 1)\n",
    "\n",
    "slip_rate_gdf = gpd.GeoDataFrame(slip_rate_df, geometry='geometry')\n",
    "slip_rate_gdf"
   ]
  },
  {
   "cell_type": "code",
   "execution_count": 7,
   "metadata": {},
   "outputs": [
    {
     "data": {
      "text/plain": [
       "<matplotlib.axes._subplots.AxesSubplot at 0x7f674e9b5978>"
      ]
     },
     "execution_count": 7,
     "metadata": {},
     "output_type": "execute_result"
    },
    {
     "data": {
      "image/png": "[encoded data removed]",
      "text/plain": [
       "<Figure size 432x288 with 1 Axes>"
      ]
     },
     "metadata": {
      "needs_background": "light"
     },
     "output_type": "display_data"
    }
   ],
   "source": [
    "slip_rate_gdf.geometry.plot()"
   ]
  },
  {
   "cell_type": "code",
   "execution_count": 8,
   "metadata": {},
   "outputs": [],
   "source": [
    "import itertools\n",
    "from operator import itemgetter\n",
    "\n",
    "import geopandas as gpd\n",
    "import numpy as np\n",
    "import pandas as pd\n",
    "\n",
    "from scipy.spatial import cKDTree\n",
    "\n",
    "#https://gis.stackexchange.com/a/301935"
   ]
  },
  {
   "cell_type": "code",
   "execution_count": 9,
   "metadata": {},
   "outputs": [],
   "source": [
    "def ckdnearest(gdfA, gdfB, gdfB_cols=[]):\n",
    "    # resetting the index of gdfA and gdfB here.\n",
    "    gdfA = gdfA.reset_index(drop=True)\n",
    "    gdfB = gdfB.reset_index(drop=True)\n",
    "    A = np.concatenate(\n",
    "        [np.array(geom.coords) for geom in gdfA.geometry.to_list()])\n",
    "    B = [np.array(geom.coords) for geom in gdfB.geometry.to_list()]\n",
    "    B_ix = tuple(itertools.chain.from_iterable(\n",
    "        [itertools.repeat(i, x) for i, x in enumerate(list(map(len, B)))]))\n",
    "    B = np.concatenate(B)\n",
    "    ckd_tree = cKDTree(B)\n",
    "    dist, idx = ckd_tree.query(A, k=1)\n",
    "    idx = itemgetter(*idx)(B_ix)\n",
    "    gdf = pd.concat(\n",
    "        [gdfA, gdfB.loc[idx, gdfB_cols].reset_index(drop=True),\n",
    "         pd.Series(dist, name='dist')], axis=1)\n",
    "    return gdf\n",
    "\n",
    "sr_columns = ['Site Data_Site DB ID', \n",
    "         'Site Data_Comments regarding SR',\n",
    "         'Site Data_Site Name', \n",
    "         'Site Data_Easting (NZTM)', \n",
    "         'Site Data_Northing (NZTM)']\n",
    "\n",
    "nearest_site_gdf = ckdnearest(sites_gdf, slip_rate_gdf, sr_columns)"
   ]
  },
  {
   "cell_type": "code",
   "execution_count": 10,
   "metadata": {},
   "outputs": [
    {
     "data": {
      "text/html": [
       "<div>\n",
       "<style scoped>\n",
       "    .dataframe tbody tr th:only-of-type {\n",
       "        vertical-align: middle;\n",
       "    }\n",
       "\n",
       "    .dataframe tbody tr th {\n",
       "        vertical-align: top;\n",
       "    }\n",
       "\n",
       "    .dataframe thead th {\n",
       "        text-align: right;\n",
       "    }\n",
       "</style>\n",
       "<table border=\"1\" class=\"dataframe\">\n",
       "  <thead>\n",
       "    <tr style=\"text-align: right;\">\n",
       "      <th></th>\n",
       "      <th>SiteDB_ID</th>\n",
       "      <th>Site Data_Site DB ID</th>\n",
       "      <th>geometry</th>\n",
       "      <th>dist</th>\n",
       "      <th>Site Data_Site DB ID</th>\n",
       "      <th>Site Data_Comments regarding SR</th>\n",
       "      <th>Site Data_Site Name</th>\n",
       "      <th>Site Data_Easting (NZTM)</th>\n",
       "      <th>Site Data_Northing (NZTM)</th>\n",
       "    </tr>\n",
       "  </thead>\n",
       "  <tbody>\n",
       "    <tr>\n",
       "      <th>0</th>\n",
       "      <td>1.0</td>\n",
       "      <td>1</td>\n",
       "      <td>POINT (1685350.000 5390753.000)</td>\n",
       "      <td>4.112149e-06</td>\n",
       "      <td>1</td>\n",
       "      <td>Bartholomew et al. (2014) only report SR in co...</td>\n",
       "      <td>2</td>\n",
       "      <td>1.685350e+06</td>\n",
       "      <td>5.390753e+06</td>\n",
       "    </tr>\n",
       "    <tr>\n",
       "      <th>1</th>\n",
       "      <td>2.0</td>\n",
       "      <td>2</td>\n",
       "      <td>POINT (1686050.032 5392467.073)</td>\n",
       "      <td>2.183113e-06</td>\n",
       "      <td>2</td>\n",
       "      <td>Bartholomew et al. (2014) only report SR in co...</td>\n",
       "      <td>7</td>\n",
       "      <td>1.686050e+06</td>\n",
       "      <td>5.392467e+06</td>\n",
       "    </tr>\n",
       "    <tr>\n",
       "      <th>3</th>\n",
       "      <td>5.0</td>\n",
       "      <td>3</td>\n",
       "      <td>POINT (1689691.000 5398181.000)</td>\n",
       "      <td>6.864721e-07</td>\n",
       "      <td>3</td>\n",
       "      <td>Bartholomew et al. (2014) only report SR in co...</td>\n",
       "      <td>35; Flaxey splay</td>\n",
       "      <td>1.689691e+06</td>\n",
       "      <td>5.398181e+06</td>\n",
       "    </tr>\n",
       "    <tr>\n",
       "      <th>4</th>\n",
       "      <td>4.0</td>\n",
       "      <td>4</td>\n",
       "      <td>POINT (1690022.833 5398338.833)</td>\n",
       "      <td>3.788416e-06</td>\n",
       "      <td>4</td>\n",
       "      <td>Bartholomew et al. (2014) only report SR in co...</td>\n",
       "      <td>43; Homestead Stream</td>\n",
       "      <td>1.690023e+06</td>\n",
       "      <td>5.398339e+06</td>\n",
       "    </tr>\n",
       "    <tr>\n",
       "      <th>7</th>\n",
       "      <td>8.0</td>\n",
       "      <td>8</td>\n",
       "      <td>POINT (1777132.179 5448409.051)</td>\n",
       "      <td>6.322745e-07</td>\n",
       "      <td>8</td>\n",
       "      <td>Ages and offset from Ninis et al. (2013) using...</td>\n",
       "      <td>Emerald Hill; \\nEHT2-T3-T4</td>\n",
       "      <td>1.777132e+06</td>\n",
       "      <td>5.448409e+06</td>\n",
       "    </tr>\n",
       "    <tr>\n",
       "      <th>8</th>\n",
       "      <td>9.0</td>\n",
       "      <td>9</td>\n",
       "      <td>POINT (1777343.592 5448532.222)</td>\n",
       "      <td>2.241761e-07</td>\n",
       "      <td>9</td>\n",
       "      <td>Reported SR of Ninis et al. (2013) as only one...</td>\n",
       "      <td>Emerald Hill;\\nEHT2-T3</td>\n",
       "      <td>1.777344e+06</td>\n",
       "      <td>5.448532e+06</td>\n",
       "    </tr>\n",
       "    <tr>\n",
       "      <th>10</th>\n",
       "      <td>11.0</td>\n",
       "      <td>11</td>\n",
       "      <td>POINT (1777968.141 5448830.340)</td>\n",
       "      <td>5.180327e-07</td>\n",
       "      <td>11</td>\n",
       "      <td>Reported values of Little et al. (2010) as onl...</td>\n",
       "      <td>Te Marua terraces</td>\n",
       "      <td>1.777968e+06</td>\n",
       "      <td>5.448830e+06</td>\n",
       "    </tr>\n",
       "  </tbody>\n",
       "</table>\n",
       "</div>"
      ],
      "text/plain": [
       "    SiteDB_ID  Site Data_Site DB ID                         geometry  \\\n",
       "0         1.0                     1  POINT (1685350.000 5390753.000)   \n",
       "1         2.0                     2  POINT (1686050.032 5392467.073)   \n",
       "3         5.0                     3  POINT (1689691.000 5398181.000)   \n",
       "4         4.0                     4  POINT (1690022.833 5398338.833)   \n",
       "7         8.0                     8  POINT (1777132.179 5448409.051)   \n",
       "8         9.0                     9  POINT (1777343.592 5448532.222)   \n",
       "10       11.0                    11  POINT (1777968.141 5448830.340)   \n",
       "\n",
       "            dist  Site Data_Site DB ID  \\\n",
       "0   4.112149e-06                     1   \n",
       "1   2.183113e-06                     2   \n",
       "3   6.864721e-07                     3   \n",
       "4   3.788416e-06                     4   \n",
       "7   6.322745e-07                     8   \n",
       "8   2.241761e-07                     9   \n",
       "10  5.180327e-07                    11   \n",
       "\n",
       "                      Site Data_Comments regarding SR  \\\n",
       "0   Bartholomew et al. (2014) only report SR in co...   \n",
       "1   Bartholomew et al. (2014) only report SR in co...   \n",
       "3   Bartholomew et al. (2014) only report SR in co...   \n",
       "4   Bartholomew et al. (2014) only report SR in co...   \n",
       "7   Ages and offset from Ninis et al. (2013) using...   \n",
       "8   Reported SR of Ninis et al. (2013) as only one...   \n",
       "10  Reported values of Little et al. (2010) as onl...   \n",
       "\n",
       "           Site Data_Site Name  Site Data_Easting (NZTM)  \\\n",
       "0                            2              1.685350e+06   \n",
       "1                            7              1.686050e+06   \n",
       "3             35; Flaxey splay              1.689691e+06   \n",
       "4         43; Homestead Stream              1.690023e+06   \n",
       "7   Emerald Hill; \\nEHT2-T3-T4              1.777132e+06   \n",
       "8       Emerald Hill;\\nEHT2-T3              1.777344e+06   \n",
       "10           Te Marua terraces              1.777968e+06   \n",
       "\n",
       "    Site Data_Northing (NZTM)  \n",
       "0                5.390753e+06  \n",
       "1                5.392467e+06  \n",
       "3                5.398181e+06  \n",
       "4                5.398339e+06  \n",
       "7                5.448409e+06  \n",
       "8                5.448532e+06  \n",
       "10               5.448830e+06  "
      ]
     },
     "execution_count": 10,
     "metadata": {},
     "output_type": "execute_result"
    }
   ],
   "source": [
    "nearest_site_gdf[nearest_site_gdf.dist <= 1].filter(items=['SiteDB_ID', 'Site Data_Site DB ID', 'geometry', 'dist'] + sr_columns)"
   ]
  },
  {
   "cell_type": "code",
   "execution_count": 11,
   "metadata": {},
   "outputs": [
    {
     "data": {
      "text/html": [
       "<div>\n",
       "<style scoped>\n",
       "    .dataframe tbody tr th:only-of-type {\n",
       "        vertical-align: middle;\n",
       "    }\n",
       "\n",
       "    .dataframe tbody tr th {\n",
       "        vertical-align: top;\n",
       "    }\n",
       "\n",
       "    .dataframe thead th {\n",
       "        text-align: right;\n",
       "    }\n",
       "</style>\n",
       "<table border=\"1\" class=\"dataframe\">\n",
       "  <thead>\n",
       "    <tr style=\"text-align: right;\">\n",
       "      <th></th>\n",
       "      <th>NAME</th>\n",
       "      <th>REC_INTERV</th>\n",
       "      <th>SECTION</th>\n",
       "      <th>AUTHOR</th>\n",
       "      <th>SOURCE</th>\n",
       "      <th>ACCURACY</th>\n",
       "      <th>DOWNQUAD</th>\n",
       "      <th>SLIPRATE</th>\n",
       "      <th>SUBSLIPTYP</th>\n",
       "      <th>DIP</th>\n",
       "      <th>DISPLACEME</th>\n",
       "      <th>LASTEVENT</th>\n",
       "      <th>DOMSLIPTYP</th>\n",
       "      <th>DIPDIRECTI</th>\n",
       "      <th>EVENT</th>\n",
       "      <th>geometry</th>\n",
       "    </tr>\n",
       "  </thead>\n",
       "  <tbody>\n",
       "    <tr>\n",
       "      <th>0</th>\n",
       "      <td>Wairoa North Fault</td>\n",
       "      <td>None</td>\n",
       "      <td>None</td>\n",
       "      <td>None</td>\n",
       "      <td>None</td>\n",
       "      <td>Accurate</td>\n",
       "      <td>SW</td>\n",
       "      <td>Unknown</td>\n",
       "      <td>Unknown</td>\n",
       "      <td>Unknown</td>\n",
       "      <td>Unknown</td>\n",
       "      <td>Unknown</td>\n",
       "      <td>Normal</td>\n",
       "      <td>W</td>\n",
       "      <td>None</td>\n",
       "      <td>LINESTRING (1786021.356 5894921.191, 1786101.6...</td>\n",
       "    </tr>\n",
       "  </tbody>\n",
       "</table>\n",
       "</div>"
      ],
      "text/plain": [
       "                 NAME REC_INTERV SECTION AUTHOR SOURCE  ACCURACY DOWNQUAD  \\\n",
       "0  Wairoa North Fault       None    None   None   None  Accurate       SW   \n",
       "\n",
       "  SLIPRATE SUBSLIPTYP      DIP DISPLACEME LASTEVENT DOMSLIPTYP DIPDIRECTI  \\\n",
       "0  Unknown    Unknown  Unknown    Unknown   Unknown     Normal          W   \n",
       "\n",
       "  EVENT                                           geometry  \n",
       "0  None  LINESTRING (1786021.356 5894921.191, 1786101.6...  "
      ]
     },
     "execution_count": 11,
     "metadata": {},
     "output_type": "execute_result"
    }
   ],
   "source": [
    "nzafd_gdf[nzafd_gdf.index==0]"
   ]
  },
  {
   "cell_type": "code",
   "execution_count": 12,
   "metadata": {},
   "outputs": [],
   "source": [
    "nzafd_sections_gdf = nzafd_gdf.explode()"
   ]
  },
  {
   "cell_type": "code",
   "execution_count": 13,
   "metadata": {},
   "outputs": [
    {
     "data": {
      "text/plain": [
       "<matplotlib.axes._subplots.AxesSubplot at 0x7f674e7f7f28>"
      ]
     },
     "execution_count": 13,
     "metadata": {},
     "output_type": "execute_result"
    },
    {
     "data": {
      "image/png": "[encoded data removed]",
      "text/plain": [
       "<Figure size 432x288 with 1 Axes>"
      ]
     },
     "metadata": {
      "needs_background": "light"
     },
     "output_type": "display_data"
    }
   ],
   "source": [
    "nzafd_gdf.geometry.plot()"
   ]
  },
  {
   "cell_type": "code",
   "execution_count": 14,
   "metadata": {},
   "outputs": [
    {
     "data": {
      "text/plain": [
       "<matplotlib.axes._subplots.AxesSubplot at 0x7f674e7aee10>"
      ]
     },
     "execution_count": 14,
     "metadata": {},
     "output_type": "execute_result"
    },
    {
     "data": {
      "image/png": "[encoded data removed]",
      "text/plain": [
       "<Figure size 432x288 with 1 Axes>"
      ]
     },
     "metadata": {
      "needs_background": "light"
     },
     "output_type": "display_data"
    }
   ],
   "source": [
    "nzafd_sections_gdf.geometry.plot()"
   ]
  },
  {
   "cell_type": "code",
   "execution_count": 15,
   "metadata": {},
   "outputs": [],
   "source": [
    "#nzafd_sections_gdf[nzafd_sections_gdf['SECTION'] == 'Virginia Fault Zone'].filter(items=['geometry', 'SECTION'])"
   ]
  },
  {
   "cell_type": "code",
   "execution_count": 16,
   "metadata": {},
   "outputs": [],
   "source": [
    "#nzafd_sections_gdf.count()"
   ]
  },
  {
   "cell_type": "code",
   "execution_count": 17,
   "metadata": {},
   "outputs": [],
   "source": [
    "#help(nzafd_sections_gdf.index.to_flat_index)\n"
   ]
  },
  {
   "cell_type": "code",
   "execution_count": 18,
   "metadata": {},
   "outputs": [
    {
     "data": {
      "text/html": [
       "<div>\n",
       "<style scoped>\n",
       "    .dataframe tbody tr th:only-of-type {\n",
       "        vertical-align: middle;\n",
       "    }\n",
       "\n",
       "    .dataframe tbody tr th {\n",
       "        vertical-align: top;\n",
       "    }\n",
       "\n",
       "    .dataframe thead th {\n",
       "        text-align: right;\n",
       "    }\n",
       "</style>\n",
       "<table border=\"1\" class=\"dataframe\">\n",
       "  <thead>\n",
       "    <tr style=\"text-align: right;\">\n",
       "      <th></th>\n",
       "      <th>NAME</th>\n",
       "      <th>REC_INTERV</th>\n",
       "      <th>SECTION</th>\n",
       "      <th>AUTHOR</th>\n",
       "      <th>SOURCE</th>\n",
       "      <th>ACCURACY</th>\n",
       "      <th>DOWNQUAD</th>\n",
       "      <th>SLIPRATE</th>\n",
       "      <th>SUBSLIPTYP</th>\n",
       "      <th>DIP</th>\n",
       "      <th>DISPLACEME</th>\n",
       "      <th>LASTEVENT</th>\n",
       "      <th>DOMSLIPTYP</th>\n",
       "      <th>DIPDIRECTI</th>\n",
       "      <th>EVENT</th>\n",
       "      <th>geometry</th>\n",
       "    </tr>\n",
       "  </thead>\n",
       "  <tbody>\n",
       "    <tr>\n",
       "      <th>(1426, 1)</th>\n",
       "      <td>Paparoa Point Fault</td>\n",
       "      <td>None</td>\n",
       "      <td>None</td>\n",
       "      <td>None</td>\n",
       "      <td>Kaikoura 2016</td>\n",
       "      <td>Accurate</td>\n",
       "      <td>Unknown</td>\n",
       "      <td>Unknown</td>\n",
       "      <td>Unknown</td>\n",
       "      <td>Unknown</td>\n",
       "      <td>Unknown</td>\n",
       "      <td>Historical</td>\n",
       "      <td>Unknown</td>\n",
       "      <td>Unknown</td>\n",
       "      <td>Kaikoura 2016</td>\n",
       "      <td>LINESTRING (1669851.319 5323887.056, 1669985.5...</td>\n",
       "    </tr>\n",
       "  </tbody>\n",
       "</table>\n",
       "</div>"
      ],
      "text/plain": [
       "                          NAME REC_INTERV SECTION AUTHOR         SOURCE  \\\n",
       "(1426, 1)  Paparoa Point Fault       None    None   None  Kaikoura 2016   \n",
       "\n",
       "           ACCURACY DOWNQUAD SLIPRATE SUBSLIPTYP      DIP DISPLACEME  \\\n",
       "(1426, 1)  Accurate  Unknown  Unknown    Unknown  Unknown    Unknown   \n",
       "\n",
       "            LASTEVENT DOMSLIPTYP DIPDIRECTI          EVENT  \\\n",
       "(1426, 1)  Historical    Unknown    Unknown  Kaikoura 2016   \n",
       "\n",
       "                                                    geometry  \n",
       "(1426, 1)  LINESTRING (1669851.319 5323887.056, 1669985.5...  "
      ]
     },
     "execution_count": 18,
     "metadata": {},
     "output_type": "execute_result"
    }
   ],
   "source": [
    "nzafd_sections_gdf.index = nzafd_sections_gdf.index.to_flat_index()\n",
    "\n",
    "nzafd_sections_gdf[nzafd_sections_gdf.index == (1426,1)]"
   ]
  },
  {
   "cell_type": "code",
   "execution_count": 29,
   "metadata": {},
   "outputs": [
    {
     "data": {
      "text/plain": [
       "<matplotlib.axes._subplots.AxesSubplot at 0x7f674e14f550>"
      ]
     },
     "execution_count": 29,
     "metadata": {},
     "output_type": "execute_result"
    },
    {
     "data": {
      "image/png": "[encoded data removed]",
      "text/plain": [
       "<Figure size 432x288 with 1 Axes>"
      ]
     },
     "metadata": {
      "needs_background": "light"
     },
     "output_type": "display_data"
    }
   ],
   "source": [
    "nzafd_sections_gdf['nzafd_index'] = nzafd_sections_gdf.index.to_series()\n",
    "nzafd_sections_gdf['nzafd_geometry'] = gpd.GeoSeries(nzafd_sections_gdf.geometry.copy())\n",
    "nzafd_gdf.geometry.plot()"
   ]
  },
  {
   "cell_type": "code",
   "execution_count": 33,
   "metadata": {},
   "outputs": [
    {
     "data": {
      "text/plain": [
       "<matplotlib.axes._subplots.AxesSubplot at 0x7f674de135c0>"
      ]
     },
     "execution_count": 33,
     "metadata": {},
     "output_type": "execute_result"
    },
    {
     "data": {
      "image/png": "[encoded data removed]",
      "text/plain": [
       "<Figure size 432x288 with 1 Axes>"
      ]
     },
     "metadata": {
      "needs_background": "light"
     },
     "output_type": "display_data"
    }
   ],
   "source": [
    "#help(nzafd_sections_gdf[\"nzafd_geometry\"])\n"
   ]
  },
  {
   "cell_type": "code",
   "execution_count": null,
   "metadata": {},
   "outputs": [],
   "source": []
  },
  {
   "cell_type": "code",
   "execution_count": 20,
   "metadata": {},
   "outputs": [
    {
     "data": {
      "text/html": [
       "<div>\n",
       "<style scoped>\n",
       "    .dataframe tbody tr th:only-of-type {\n",
       "        vertical-align: middle;\n",
       "    }\n",
       "\n",
       "    .dataframe tbody tr th {\n",
       "        vertical-align: top;\n",
       "    }\n",
       "\n",
       "    .dataframe thead th {\n",
       "        text-align: right;\n",
       "    }\n",
       "</style>\n",
       "<table border=\"1\" class=\"dataframe\">\n",
       "  <thead>\n",
       "    <tr style=\"text-align: right;\">\n",
       "      <th></th>\n",
       "      <th>nzafd_index</th>\n",
       "      <th>SiteDB_ID</th>\n",
       "      <th>Site Data_Site DB ID</th>\n",
       "      <th>nzafd_geometry</th>\n",
       "      <th>OWNER</th>\n",
       "      <th>NAME</th>\n",
       "      <th>EVENT</th>\n",
       "      <th>geometry</th>\n",
       "      <th>dist_site</th>\n",
       "      <th>dist</th>\n",
       "      <th>Site Data_Comments regarding SR</th>\n",
       "      <th>Site Data_Site Name</th>\n",
       "    </tr>\n",
       "  </thead>\n",
       "  <tbody>\n",
       "    <tr>\n",
       "      <th>0</th>\n",
       "      <td>(5338, 0)</td>\n",
       "      <td>1.0</td>\n",
       "      <td>1</td>\n",
       "      <td>LINESTRING (1685376.386 5390429.167, 1685376.1...</td>\n",
       "      <td>GNS, Victoria University</td>\n",
       "      <td>Vernon Fault</td>\n",
       "      <td>None</td>\n",
       "      <td>POINT (1685350.000 5390753.000)</td>\n",
       "      <td>4.112149e-06</td>\n",
       "      <td>83.989293</td>\n",
       "      <td>Bartholomew et al. (2014) only report SR in co...</td>\n",
       "      <td>2</td>\n",
       "    </tr>\n",
       "    <tr>\n",
       "      <th>1</th>\n",
       "      <td>(5333, 0)</td>\n",
       "      <td>2.0</td>\n",
       "      <td>2</td>\n",
       "      <td>LINESTRING (1686175.772 5392865.999, 1686138.0...</td>\n",
       "      <td>GNS, Victoria University</td>\n",
       "      <td>Vernon Fault</td>\n",
       "      <td>None</td>\n",
       "      <td>POINT (1686050.032 5392467.073)</td>\n",
       "      <td>2.183113e-06</td>\n",
       "      <td>56.717159</td>\n",
       "      <td>Bartholomew et al. (2014) only report SR in co...</td>\n",
       "      <td>7</td>\n",
       "    </tr>\n",
       "    <tr>\n",
       "      <th>2</th>\n",
       "      <td>(5315, 0)</td>\n",
       "      <td>5.0</td>\n",
       "      <td>3</td>\n",
       "      <td>LINESTRING (1690804.155 5398545.141, 1690468.7...</td>\n",
       "      <td>GNS, Victoria University</td>\n",
       "      <td>Vernon Fault</td>\n",
       "      <td>None</td>\n",
       "      <td>POINT (1689691.000 5398181.000)</td>\n",
       "      <td>6.864721e-07</td>\n",
       "      <td>61.219768</td>\n",
       "      <td>Bartholomew et al. (2014) only report SR in co...</td>\n",
       "      <td>35; Flaxey splay</td>\n",
       "    </tr>\n",
       "    <tr>\n",
       "      <th>3</th>\n",
       "      <td>(5315, 0)</td>\n",
       "      <td>4.0</td>\n",
       "      <td>4</td>\n",
       "      <td>LINESTRING (1690804.155 5398545.141, 1690468.7...</td>\n",
       "      <td>GNS, Victoria University</td>\n",
       "      <td>Vernon Fault</td>\n",
       "      <td>None</td>\n",
       "      <td>POINT (1690022.833 5398338.833)</td>\n",
       "      <td>3.788416e-06</td>\n",
       "      <td>136.394049</td>\n",
       "      <td>Bartholomew et al. (2014) only report SR in co...</td>\n",
       "      <td>43; Homestead Stream</td>\n",
       "    </tr>\n",
       "    <tr>\n",
       "      <th>4</th>\n",
       "      <td>(4162, 0)</td>\n",
       "      <td>8.0</td>\n",
       "      <td>8</td>\n",
       "      <td>LINESTRING (1776968.115 5448333.931, 1777054.4...</td>\n",
       "      <td>GNS, Victoria University</td>\n",
       "      <td>Wellington Fault</td>\n",
       "      <td>None</td>\n",
       "      <td>POINT (1777132.179 5448409.051)</td>\n",
       "      <td>6.322745e-07</td>\n",
       "      <td>82.681352</td>\n",
       "      <td>Ages and offset from Ninis et al. (2013) using...</td>\n",
       "      <td>Emerald Hill; \\nEHT2-T3-T4</td>\n",
       "    </tr>\n",
       "    <tr>\n",
       "      <th>5</th>\n",
       "      <td>(4351, 0)</td>\n",
       "      <td>9.0</td>\n",
       "      <td>9</td>\n",
       "      <td>LINESTRING (1777204.618 5448449.418, 1777321.1...</td>\n",
       "      <td>GNS, Victoria University</td>\n",
       "      <td>Wellington Fault</td>\n",
       "      <td>None</td>\n",
       "      <td>POINT (1777343.592 5448532.222)</td>\n",
       "      <td>2.241761e-07</td>\n",
       "      <td>32.641461</td>\n",
       "      <td>Reported SR of Ninis et al. (2013) as only one...</td>\n",
       "      <td>Emerald Hill;\\nEHT2-T3</td>\n",
       "    </tr>\n",
       "    <tr>\n",
       "      <th>6</th>\n",
       "      <td>(2990, 0)</td>\n",
       "      <td>11.0</td>\n",
       "      <td>11</td>\n",
       "      <td>LINESTRING (1778112.108 5448892.298, 1778038.8...</td>\n",
       "      <td>GNS, Victoria University</td>\n",
       "      <td>Wellington Fault</td>\n",
       "      <td>None</td>\n",
       "      <td>POINT (1777968.141 5448830.340)</td>\n",
       "      <td>5.180327e-07</td>\n",
       "      <td>38.397335</td>\n",
       "      <td>Reported values of Little et al. (2010) as onl...</td>\n",
       "      <td>Te Marua terraces</td>\n",
       "    </tr>\n",
       "  </tbody>\n",
       "</table>\n",
       "</div>"
      ],
      "text/plain": [
       "  nzafd_index  SiteDB_ID  Site Data_Site DB ID  \\\n",
       "0   (5338, 0)        1.0                     1   \n",
       "1   (5333, 0)        2.0                     2   \n",
       "2   (5315, 0)        5.0                     3   \n",
       "3   (5315, 0)        4.0                     4   \n",
       "4   (4162, 0)        8.0                     8   \n",
       "5   (4351, 0)        9.0                     9   \n",
       "6   (2990, 0)       11.0                    11   \n",
       "\n",
       "                                      nzafd_geometry  \\\n",
       "0  LINESTRING (1685376.386 5390429.167, 1685376.1...   \n",
       "1  LINESTRING (1686175.772 5392865.999, 1686138.0...   \n",
       "2  LINESTRING (1690804.155 5398545.141, 1690468.7...   \n",
       "3  LINESTRING (1690804.155 5398545.141, 1690468.7...   \n",
       "4  LINESTRING (1776968.115 5448333.931, 1777054.4...   \n",
       "5  LINESTRING (1777204.618 5448449.418, 1777321.1...   \n",
       "6  LINESTRING (1778112.108 5448892.298, 1778038.8...   \n",
       "\n",
       "                      OWNER              NAME EVENT  \\\n",
       "0  GNS, Victoria University      Vernon Fault  None   \n",
       "1  GNS, Victoria University      Vernon Fault  None   \n",
       "2  GNS, Victoria University      Vernon Fault  None   \n",
       "3  GNS, Victoria University      Vernon Fault  None   \n",
       "4  GNS, Victoria University  Wellington Fault  None   \n",
       "5  GNS, Victoria University  Wellington Fault  None   \n",
       "6  GNS, Victoria University  Wellington Fault  None   \n",
       "\n",
       "                          geometry     dist_site        dist  \\\n",
       "0  POINT (1685350.000 5390753.000)  4.112149e-06   83.989293   \n",
       "1  POINT (1686050.032 5392467.073)  2.183113e-06   56.717159   \n",
       "2  POINT (1689691.000 5398181.000)  6.864721e-07   61.219768   \n",
       "3  POINT (1690022.833 5398338.833)  3.788416e-06  136.394049   \n",
       "4  POINT (1777132.179 5448409.051)  6.322745e-07   82.681352   \n",
       "5  POINT (1777343.592 5448532.222)  2.241761e-07   32.641461   \n",
       "6  POINT (1777968.141 5448830.340)  5.180327e-07   38.397335   \n",
       "\n",
       "                     Site Data_Comments regarding SR  \\\n",
       "0  Bartholomew et al. (2014) only report SR in co...   \n",
       "1  Bartholomew et al. (2014) only report SR in co...   \n",
       "2  Bartholomew et al. (2014) only report SR in co...   \n",
       "3  Bartholomew et al. (2014) only report SR in co...   \n",
       "4  Ages and offset from Ninis et al. (2013) using...   \n",
       "5  Reported SR of Ninis et al. (2013) as only one...   \n",
       "6  Reported values of Little et al. (2010) as onl...   \n",
       "\n",
       "          Site Data_Site Name  \n",
       "0                           2  \n",
       "1                           7  \n",
       "2            35; Flaxey splay  \n",
       "3        43; Homestead Stream  \n",
       "4  Emerald Hill; \\nEHT2-T3-T4  \n",
       "5      Emerald Hill;\\nEHT2-T3  \n",
       "6           Te Marua terraces  "
      ]
     },
     "execution_count": 20,
     "metadata": {},
     "output_type": "execute_result"
    }
   ],
   "source": [
    "nearest_site_gdf.rename(columns={\"dist\": \"dist_site\"}, inplace=True)\n",
    "nearest_section_gdf = ckdnearest(nearest_site_gdf[nearest_site_gdf.dist_site <= 1], nzafd_sections_gdf, ['NAME', 'EVENT', 'nzafd_index', 'nzafd_geometry'])\n",
    "\n",
    "#help(c.dist)\n",
    "#nzafd_sections_gdf.columns.duplicated()\n",
    "\n",
    "#nearest_fault_gdf.filter(items=['nzafd_index','geometry', 'SECTION'])\n",
    "# print(nzafd_sections_gdf.columns.to_list())\n",
    "#print(c.columns)\n",
    "# print(nearest_fault_gdf.columns)\n",
    "\n",
    "nearest_section_gdf.columns.duplicated()\n",
    "nearest_section_gdf.filter(items=['nzafd_index', 'SiteDB_ID', 'Site Data_Site DB ID', #indices\n",
    "                                'nzafd_geometry',\n",
    "                                'OWNER',\n",
    "                                'NAME', 'EVENT', 'geometry', 'dist_site', 'dist',\n",
    "                                'Site Data_Comments regarding SR', 'Site Data_Site Name'])"
   ]
  },
  {
   "cell_type": "code",
   "execution_count": 21,
   "metadata": {},
   "outputs": [
    {
     "data": {
      "text/plain": [
       "<matplotlib.axes._subplots.AxesSubplot at 0x7f674de3e978>"
      ]
     },
     "execution_count": 21,
     "metadata": {},
     "output_type": "execute_result"
    },
    {
     "data": {
      "image/png": "[encoded data removed]",
      "text/plain": [
       "<Figure size 432x288 with 1 Axes>"
      ]
     },
     "metadata": {
      "needs_background": "light"
     },
     "output_type": "display_data"
    }
   ],
   "source": [
    "nearest_section_gdf.geometry.plot()"
   ]
  },
  {
   "cell_type": "code",
   "execution_count": 34,
   "metadata": {},
   "outputs": [
    {
     "data": {
      "text/plain": [
       "<matplotlib.axes._subplots.AxesSubplot at 0x7f674db02f28>"
      ]
     },
     "execution_count": 34,
     "metadata": {},
     "output_type": "execute_result"
    },
    {
     "data": {
      "image/png": "[encoded data removed]",
      "text/plain": [
       "<Figure size 432x288 with 1 Axes>"
      ]
     },
     "metadata": {
      "needs_background": "light"
     },
     "output_type": "display_data"
    }
   ],
   "source": [
    "myseries = gpd.GeoSeries(nearest_section_gdf.nzafd_geometry.copy())\n",
    "myseries.plot()"
   ]
  },
  {
   "cell_type": "code",
   "execution_count": null,
   "metadata": {},
   "outputs": [],
   "source": []
  }
 ],
 "metadata": {
  "kernelspec": {
   "display_name": "Python 3",
   "language": "python",
   "name": "python3"
  },
  "language_info": {
   "codemirror_mode": {
    "name": "ipython",
    "version": 3
   },
   "file_extension": ".py",
   "mimetype": "text/x-python",
   "name": "python",
   "nbconvert_exporter": "python",
   "pygments_lexer": "ipython3",
   "version": "3.7.3"
  }
 },
 "nbformat": 4,
 "nbformat_minor": 4
}
