{
 "cells": [
  {
   "cell_type": "markdown",
   "metadata": {},
   "source": [
    "## DEMO Part 01 join data using Pandas Dataframe merge"
   ]
  },
  {
   "cell_type": "code",
   "execution_count": 1,
   "metadata": {},
   "outputs": [],
   "source": [
    "from datetime import datetime as dt\n",
    "t0 = dt.utcnow()"
   ]
  },
  {
   "cell_type": "code",
   "execution_count": 2,
   "metadata": {},
   "outputs": [
    {
     "name": "stdout",
     "output_type": "stream",
     "text": [
      "CPU times: user 204 ms, sys: 12 ms, total: 216 ms\n",
      "Wall time: 219 ms\n",
      "CPU times: user 484 ms, sys: 24 ms, total: 508 ms\n",
      "Wall time: 509 ms\n"
     ]
    }
   ],
   "source": [
    "%run \"__DEMO Part 00.ipynb\""
   ]
  },
  {
   "cell_type": "markdown",
   "metadata": {},
   "source": [
    "### Join dataframes on Site ID with df.merge()"
   ]
  },
  {
   "cell_type": "code",
   "execution_count": 3,
   "metadata": {},
   "outputs": [],
   "source": [
    "# ## massage type of SiteDB_ID column\n",
    "sites_gdf[\"SiteDB_ID\"] = pd.to_numeric(sites_gdf[\"SiteDB_ID\"], downcast='integer', errors='coerce')\n"
   ]
  },
  {
   "cell_type": "code",
   "execution_count": 4,
   "metadata": {},
   "outputs": [
    {
     "data": {
      "text/html": [
       "<div>\n",
       "<style scoped>\n",
       "    .dataframe tbody tr th:only-of-type {\n",
       "        vertical-align: middle;\n",
       "    }\n",
       "\n",
       "    .dataframe tbody tr th {\n",
       "        vertical-align: top;\n",
       "    }\n",
       "\n",
       "    .dataframe thead th {\n",
       "        text-align: right;\n",
       "    }\n",
       "</style>\n",
       "<table border=\"1\" class=\"dataframe\">\n",
       "  <thead>\n",
       "    <tr style=\"text-align: right;\">\n",
       "      <th></th>\n",
       "      <th>SiteDB_ID</th>\n",
       "      <th>Site Data_Site DB ID</th>\n",
       "      <th>POINT_X</th>\n",
       "      <th>geometry</th>\n",
       "      <th>Site Data_Site Name</th>\n",
       "      <th>Site Data_Easting (NZTM)</th>\n",
       "      <th>Site Data_Northing (NZTM)</th>\n",
       "    </tr>\n",
       "  </thead>\n",
       "  <tbody>\n",
       "    <tr>\n",
       "      <th>0</th>\n",
       "      <td>1.0</td>\n",
       "      <td>1</td>\n",
       "      <td>1.685350e+06</td>\n",
       "      <td>POINT (1685350.000 5390753.000)</td>\n",
       "      <td>2</td>\n",
       "      <td>1.685350e+06</td>\n",
       "      <td>5.390753e+06</td>\n",
       "    </tr>\n",
       "    <tr>\n",
       "      <th>1</th>\n",
       "      <td>2.0</td>\n",
       "      <td>2</td>\n",
       "      <td>1.686050e+06</td>\n",
       "      <td>POINT (1686050.032 5392467.073)</td>\n",
       "      <td>7</td>\n",
       "      <td>1.686050e+06</td>\n",
       "      <td>5.392467e+06</td>\n",
       "    </tr>\n",
       "    <tr>\n",
       "      <th>2</th>\n",
       "      <td>3.0</td>\n",
       "      <td>3</td>\n",
       "      <td>1.688883e+06</td>\n",
       "      <td>POINT (1688883.169 5397088.581)</td>\n",
       "      <td>35; Flaxey splay</td>\n",
       "      <td>1.689691e+06</td>\n",
       "      <td>5.398181e+06</td>\n",
       "    </tr>\n",
       "    <tr>\n",
       "      <th>3</th>\n",
       "      <td>4.0</td>\n",
       "      <td>4</td>\n",
       "      <td>1.690023e+06</td>\n",
       "      <td>POINT (1690022.833 5398338.833)</td>\n",
       "      <td>43; Homestead Stream</td>\n",
       "      <td>1.690023e+06</td>\n",
       "      <td>5.398339e+06</td>\n",
       "    </tr>\n",
       "    <tr>\n",
       "      <th>4</th>\n",
       "      <td>7.0</td>\n",
       "      <td>7</td>\n",
       "      <td>1.776505e+06</td>\n",
       "      <td>POINT (1776505.384 5448136.479)</td>\n",
       "      <td>Emerald Hill; EHT5-T6</td>\n",
       "      <td>1.777235e+06</td>\n",
       "      <td>5.448284e+06</td>\n",
       "    </tr>\n",
       "    <tr>\n",
       "      <th>5</th>\n",
       "      <td>8.0</td>\n",
       "      <td>8</td>\n",
       "      <td>1.777132e+06</td>\n",
       "      <td>POINT (1777132.179 5448409.051)</td>\n",
       "      <td>Emerald Hill; \\nEHT2-T3-T4</td>\n",
       "      <td>1.777132e+06</td>\n",
       "      <td>5.448409e+06</td>\n",
       "    </tr>\n",
       "    <tr>\n",
       "      <th>6</th>\n",
       "      <td>9.0</td>\n",
       "      <td>9</td>\n",
       "      <td>1.777344e+06</td>\n",
       "      <td>POINT (1777343.592 5448532.222)</td>\n",
       "      <td>Emerald Hill;\\nEHT2-T3</td>\n",
       "      <td>1.777344e+06</td>\n",
       "      <td>5.448532e+06</td>\n",
       "    </tr>\n",
       "    <tr>\n",
       "      <th>7</th>\n",
       "      <td>11.0</td>\n",
       "      <td>11</td>\n",
       "      <td>1.777968e+06</td>\n",
       "      <td>POINT (1777968.141 5448830.340)</td>\n",
       "      <td>Te Marua terraces</td>\n",
       "      <td>1.777968e+06</td>\n",
       "      <td>5.448830e+06</td>\n",
       "    </tr>\n",
       "  </tbody>\n",
       "</table>\n",
       "</div>"
      ],
      "text/plain": [
       "   SiteDB_ID  Site Data_Site DB ID       POINT_X  \\\n",
       "0        1.0                     1  1.685350e+06   \n",
       "1        2.0                     2  1.686050e+06   \n",
       "2        3.0                     3  1.688883e+06   \n",
       "3        4.0                     4  1.690023e+06   \n",
       "4        7.0                     7  1.776505e+06   \n",
       "5        8.0                     8  1.777132e+06   \n",
       "6        9.0                     9  1.777344e+06   \n",
       "7       11.0                    11  1.777968e+06   \n",
       "\n",
       "                          geometry         Site Data_Site Name  \\\n",
       "0  POINT (1685350.000 5390753.000)                           2   \n",
       "1  POINT (1686050.032 5392467.073)                           7   \n",
       "2  POINT (1688883.169 5397088.581)            35; Flaxey splay   \n",
       "3  POINT (1690022.833 5398338.833)        43; Homestead Stream   \n",
       "4  POINT (1776505.384 5448136.479)       Emerald Hill; EHT5-T6   \n",
       "5  POINT (1777132.179 5448409.051)  Emerald Hill; \\nEHT2-T3-T4   \n",
       "6  POINT (1777343.592 5448532.222)      Emerald Hill;\\nEHT2-T3   \n",
       "7  POINT (1777968.141 5448830.340)           Te Marua terraces   \n",
       "\n",
       "   Site Data_Easting (NZTM)  Site Data_Northing (NZTM)  \n",
       "0              1.685350e+06               5.390753e+06  \n",
       "1              1.686050e+06               5.392467e+06  \n",
       "2              1.689691e+06               5.398181e+06  \n",
       "3              1.690023e+06               5.398339e+06  \n",
       "4              1.777235e+06               5.448284e+06  \n",
       "5              1.777132e+06               5.448409e+06  \n",
       "6              1.777344e+06               5.448532e+06  \n",
       "7              1.777968e+06               5.448830e+06  "
      ]
     },
     "execution_count": 4,
     "metadata": {},
     "output_type": "execute_result"
    }
   ],
   "source": [
    "merged_by_siteid = pd.merge(sites_gdf, slip_rate_df, left_on=\"SiteDB_ID\", right_on='Site Data_Site DB ID', how='inner')\n",
    "merged_by_siteid.filter(items=['SiteDB_ID', \"Site Data_Site DB ID\", 'POINT_X', 'geometry', \n",
    "                                \"Site Data_Site Name\", \n",
    "                               'Site Data_Easting (NZTM)', 'Site Data_Northing (NZTM)']) "
   ]
  },
  {
   "cell_type": "code",
   "execution_count": null,
   "metadata": {},
   "outputs": [],
   "source": []
  }
 ],
 "metadata": {
  "kernelspec": {
   "display_name": "Python 3",
   "language": "python",
   "name": "python3"
  },
  "language_info": {
   "codemirror_mode": {
    "name": "ipython",
    "version": 3
   },
   "file_extension": ".py",
   "mimetype": "text/x-python",
   "name": "python",
   "nbconvert_exporter": "python",
   "pygments_lexer": "ipython3",
   "version": "3.7.3"
  }
 },
 "nbformat": 4,
 "nbformat_minor": 4
}
